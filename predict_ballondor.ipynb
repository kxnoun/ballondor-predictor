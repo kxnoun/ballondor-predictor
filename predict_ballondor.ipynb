{
  "nbformat": 4,
  "nbformat_minor": 0,
  "metadata": {
    "colab": {
      "provenance": []
    },
    "kernelspec": {
      "name": "python3",
      "display_name": "Python 3"
    },
    "language_info": {
      "name": "python"
    }
  },
  "cells": [
    {
      "cell_type": "code",
      "execution_count": 1,
      "metadata": {
        "id": "_nI0yAJ82ZXK"
      },
      "outputs": [],
      "source": [
        "import pandas as pd\n",
        "import xgboost as xgb\n",
        "from sklearn.metrics import mean_absolute_error\n",
        "from scipy.stats import spearmanr\n",
        "from sklearn.preprocessing import StandardScaler"
      ]
    },
    {
      "cell_type": "code",
      "source": [
        "data = pd.read_csv(\"final_combined_with_labels.csv\")\n",
        "\n",
        "# fix result column\n",
        "result_split = data['Result'].str.split('-', expand=True).astype(float)\n",
        "data['Wins'] = result_split[0]\n",
        "data['Draws'] = result_split[1]\n",
        "data['Losses'] = result_split[2]\n",
        "\n",
        "data = data.drop(columns=['Result'])\n",
        "\n",
        "# fix player column\n",
        "\n",
        "data['Player_ID'] = data['Player'].factorize()[0]\n",
        "id_to_player = dict(zip(data['Player_ID'], data['Player']))\n",
        "\n",
        "numeric_cols = data.columns.difference(['Player']).tolist()\n",
        "data[numeric_cols] = data[numeric_cols].apply(pd.to_numeric, errors='coerce').fillna(0)\n",
        "\n",
        "data.to_csv(\"final_ready_for_modeling_with_id.csv\", index=False)\n",
        "\n",
        "#data split\n",
        "data = pd.read_csv(\"final_ready_for_modeling_with_id.csv\")\n",
        "\n",
        "train_data = data[data['Year'] < 2024]\n",
        "predict_data = data[data['Year'] == 2024]\n",
        "\n",
        "X_train = train_data.drop(columns=['Rank', 'Year', 'Player'])\n",
        "y_train = train_data['Rank']\n",
        "\n",
        "X_predict = predict_data.drop(columns=['Rank', 'Year', 'Player'])\n",
        "\n",
        "X_train.to_csv(\"X_train.csv\", index=False)\n",
        "y_train.to_csv(\"y_train.csv\", index=False)\n",
        "X_predict.to_csv(\"X_predict_2024.csv\", index=False)"
      ],
      "metadata": {
        "id": "Ow_A7VYP2_0X"
      },
      "execution_count": 2,
      "outputs": []
    },
    {
      "cell_type": "code",
      "source": [
        "X_train = pd.read_csv(\"X_train.csv\")\n",
        "y_train = pd.read_csv(\"y_train.csv\").squeeze()\n",
        "X_predict = pd.read_csv(\"X_predict_2024.csv\")\n",
        "\n",
        "# standardize\n",
        "scaler = StandardScaler()\n",
        "X_train = scaler.fit_transform(X_train)\n",
        "X_predict = scaler.transform(X_predict)\n",
        "\n",
        "# init xgb\n",
        "model = xgb.XGBRegressor(objective='reg:squarederror', random_state=42)\n",
        "model.fit(X_train, y_train)\n",
        "\n",
        "# eval\n",
        "y_train_pred = model.predict(X_train)\n",
        "mae = mean_absolute_error(y_train, y_train_pred)\n",
        "spearman_corr, _ = spearmanr(y_train, y_train_pred)\n",
        "\n",
        "print(f\"MAE: {mae}\")\n",
        "print(f\"rank correlation: {spearman_corr}\")\n",
        "\n",
        "# predict!\n",
        "predicted_ranks_2024 = model.predict(X_predict)\n",
        "\n",
        "# get player ids back\n",
        "X_predict_2024 = pd.read_csv(\"X_predict_2024.csv\")\n",
        "X_predict_2024['Predicted_Rank'] = predicted_ranks_2024\n",
        "\n",
        "# rank players\n",
        "X_predict_2024['Player'] = X_predict_2024['Player_ID'].map(id_to_player)\n",
        "predicted_ranks_2024_sorted = X_predict_2024[['Player', 'Predicted_Rank']].sort_values(by='Predicted_Rank')\n",
        "predicted_ranks_2024_sorted.to_csv(\"predicted_2024_ranks_with_names.csv\", index=False)"
      ],
      "metadata": {
        "colab": {
          "base_uri": "https://localhost:8080/"
        },
        "id": "NCLzragO3BPN",
        "outputId": "d73e4d55-1d0a-4dc1-9927-3dacc464eb58"
      },
      "execution_count": 3,
      "outputs": [
        {
          "output_type": "stream",
          "name": "stdout",
          "text": [
            "MAE: 0.014224567560739415\n",
            "rank correlation: 0.9976813926542865\n"
          ]
        }
      ]
    },
    {
      "cell_type": "code",
      "source": [
        "predicted_data = pd.read_csv(\"predicted_2024_ranks_with_names.csv\")\n",
        "\n",
        "# sort by predicted rank\n",
        "predicted_data_sorted = predicted_data.sort_values(by=\"Predicted_Rank\").reset_index(drop=True)\n",
        "\n",
        "# add integer rankings\n",
        "predicted_data_sorted[\"Rank\"] = predicted_data_sorted.index + 1  # +1 to start ranking from 1\n",
        "\n",
        "# save final input\n",
        "predicted_data_sorted = predicted_data_sorted[['Player', 'Rank']]\n",
        "predicted_data_sorted.to_csv(\"final_predicted_2024_rankings.csv\", index=False)\n",
        "print(predicted_data_sorted)"
      ],
      "metadata": {
        "colab": {
          "base_uri": "https://localhost:8080/"
        },
        "id": "56H5HTsN3otl",
        "outputId": "c21bd8f7-a9c3-499e-ff7a-972572cc58d0"
      },
      "execution_count": 5,
      "outputs": [
        {
          "output_type": "stream",
          "name": "stdout",
          "text": [
            "              Player  Rank\n",
            "0         Harry Kane     1\n",
            "1     Erling Haaland     2\n",
            "2      Kylian Mbappé     3\n",
            "3         Toni Kroos     4\n",
            "4         Phil Foden     5\n",
            "5    Jude Bellingham     6\n",
            "6      Florian Wirtz     7\n",
            "7   Lautaro Martínez     8\n",
            "8          Dani Olmo     9\n",
            "9    Vinícius Júnior    10\n",
            "10     Nico Williams    11\n",
            "11      Lamine Yamal    12\n",
            "12             Rodri    13\n",
            "13   Ademola Lookman    14\n",
            "14     Dani Carvajal    15\n"
          ]
        }
      ]
    }
  ]
}